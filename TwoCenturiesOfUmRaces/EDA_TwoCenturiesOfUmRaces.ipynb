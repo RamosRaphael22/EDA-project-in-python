{
 "cells": [
  {
   "cell_type": "markdown",
   "id": "fd3c0411",
   "metadata": {},
   "source": [
    "Import Libraries"
   ]
  },
  {
   "cell_type": "code",
   "execution_count": null,
   "id": "7514a7f5",
   "metadata": {},
   "outputs": [],
   "source": [
    "import pandas as pd\n",
    "import seaborn as sns\n"
   ]
  },
  {
   "cell_type": "markdown",
   "id": "3196fbc3",
   "metadata": {},
   "source": [
    "Create Dataframe\n"
   ]
  },
  {
   "cell_type": "code",
   "execution_count": null,
   "id": "1209f449",
   "metadata": {},
   "outputs": [],
   "source": [
    "df = pd.read_csv(r\"C:\\Users\\matheus.melo\\Exploratory Data Analysis\\.venv\\Lib\\TwoCenturiesOfUmRaces\\TWO_CENTURIES_OF_UM_RACES.csv\", low_memory=False)"
   ]
  },
  {
   "cell_type": "markdown",
   "id": "fcaa641b",
   "metadata": {},
   "source": [
    "See the data that's been imported "
   ]
  },
  {
   "cell_type": "code",
   "execution_count": null,
   "id": "89593fe4",
   "metadata": {},
   "outputs": [],
   "source": [
    "df.head(10)"
   ]
  },
  {
   "cell_type": "markdown",
   "id": "9e46af0b",
   "metadata": {},
   "source": [
    "Clean up data (Only want 100km or 100mi from 2018)"
   ]
  },
  {
   "cell_type": "code",
   "execution_count": null,
   "id": "c66a8f1b",
   "metadata": {},
   "outputs": [],
   "source": [
    "df[(df['Event distance/length'].isin([\"100mi\", '100km'])) & (df['Year of event']==2018)]"
   ]
  },
  {
   "cell_type": "markdown",
   "id": "d13aec74",
   "metadata": {},
   "source": [
    "Filter for only USA races "
   ]
  },
  {
   "cell_type": "code",
   "execution_count": null,
   "id": "bec7c488",
   "metadata": {},
   "outputs": [],
   "source": [
    "df[df['Event name'].str.split('(').str.get(1).str.split(')').str.get(0) == 'CAN']"
   ]
  },
  {
   "cell_type": "markdown",
   "id": "1324337e",
   "metadata": {},
   "source": [
    "Combine Filters Together"
   ]
  },
  {
   "cell_type": "code",
   "execution_count": null,
   "id": "d1d43f58",
   "metadata": {},
   "outputs": [],
   "source": [
    "df[(df['Event distance/length'].isin([\"100mi\", '100km'])) &\n",
    "    (df['Year of event']==2018) &\n",
    "    (df['Event name'].str.split('(').str.get(1).str.split(')').str.get(0) == 'USA')]"
   ]
  },
  {
   "cell_type": "markdown",
   "id": "a53fb3f9",
   "metadata": {},
   "source": [
    "Turn the filters into a new dataframe"
   ]
  },
  {
   "cell_type": "code",
   "execution_count": null,
   "id": "6b4a7487",
   "metadata": {},
   "outputs": [],
   "source": [
    "filtered_df = df[(df['Event distance/length'].isin([\"100mi\", '100km'])) &\n",
    "             (df['Year of event']==2018) &\n",
    "             (df['Event name'].str.split('(').str.get(1).str.split(')').str.get(0) == 'USA')]"
   ]
  },
  {
   "cell_type": "markdown",
   "id": "e2ae7d53",
   "metadata": {},
   "source": [
    "Remove '(USA)' from event name (since all events in the new dataframe are from USA)"
   ]
  },
  {
   "cell_type": "code",
   "execution_count": null,
   "id": "e14811b7",
   "metadata": {},
   "outputs": [],
   "source": [
    "filtered_df['Event name'] = filtered_df['Event name'].str.split('(').str.get(0)"
   ]
  },
  {
   "cell_type": "markdown",
   "id": "031e7be3",
   "metadata": {},
   "source": [
    "Add a column for athlete age"
   ]
  },
  {
   "cell_type": "code",
   "execution_count": null,
   "id": "824cf25f",
   "metadata": {},
   "outputs": [],
   "source": [
    "filtered_df['Athlete_age'] = 2018 -filtered_df['Athlete year of birth']"
   ]
  },
  {
   "cell_type": "markdown",
   "id": "0145cd74",
   "metadata": {},
   "source": [
    "Remove 'h' from athlete performance "
   ]
  },
  {
   "cell_type": "code",
   "execution_count": null,
   "id": "036bb7fe",
   "metadata": {},
   "outputs": [],
   "source": [
    "filtered_df['Athlete performance'] = filtered_df['Athlete performance'].str.split(' ').str.get(0)"
   ]
  },
  {
   "cell_type": "markdown",
   "id": "e3adf30b",
   "metadata": {},
   "source": [
    "Drop columns: Athlete Club, Athlete Country, Athlete Year Of Birth, Athlete Age Category"
   ]
  },
  {
   "cell_type": "code",
   "execution_count": null,
   "id": "d52609a6",
   "metadata": {},
   "outputs": [],
   "source": [
    "filtered_df = filtered_df.drop(['Athlete club', \n",
    "                                'Athlete country', \n",
    "                                'Athlete year of birth', \n",
    "                                'Athlete age category'], \n",
    "                                axis=1)"
   ]
  },
  {
   "cell_type": "markdown",
   "id": "c7823d7c",
   "metadata": {},
   "source": [
    "Clean up null values"
   ]
  },
  {
   "cell_type": "code",
   "execution_count": null,
   "id": "00f52c7f",
   "metadata": {},
   "outputs": [],
   "source": [
    "filtered_df.isna().sum()\n",
    "filtered_df = filtered_df.dropna()\n"
   ]
  },
  {
   "cell_type": "markdown",
   "id": "6959edd1",
   "metadata": {},
   "source": [
    "Check for duplicated values"
   ]
  },
  {
   "cell_type": "code",
   "execution_count": null,
   "id": "a5c94e2a",
   "metadata": {},
   "outputs": [],
   "source": [
    "filtered_df[filtered_df.duplicated() == True]"
   ]
  },
  {
   "cell_type": "markdown",
   "id": "ce6afbcf",
   "metadata": {},
   "source": [
    "Reset index"
   ]
  },
  {
   "cell_type": "code",
   "execution_count": null,
   "id": "739c5134",
   "metadata": {},
   "outputs": [],
   "source": [
    "filtered_df =filtered_df.reset_index(drop=True)"
   ]
  },
  {
   "cell_type": "markdown",
   "id": "a0cf31a8",
   "metadata": {},
   "source": [
    "Fix types"
   ]
  },
  {
   "cell_type": "code",
   "execution_count": null,
   "id": "2f47f94d",
   "metadata": {},
   "outputs": [],
   "source": [
    "filtered_df['Athlete_age'] = filtered_df['Athlete_age'].astype(int)\n",
    "filtered_df['Athlete average speed'] = filtered_df['Athlete average speed'].astype(float)"
   ]
  },
  {
   "cell_type": "markdown",
   "id": "cda5f996",
   "metadata": {},
   "source": [
    "Rename columns"
   ]
  },
  {
   "cell_type": "code",
   "execution_count": null,
   "id": "705f4fa0",
   "metadata": {},
   "outputs": [],
   "source": [
    "filtered_df = filtered_df.rename(columns= {'Year of event' : 'year',\n",
    "                                           'Event dates' : 'race_date',\n",
    "                                           'Event name' : 'race_name',\n",
    "                                           'Event distance/length' : 'race_length',\n",
    "                                           'Event number of finishers' : 'race_number_of_finishers',\n",
    "                                           'Athlete performance' : 'athlete_performance',\n",
    "                                           'Athlete gender' : 'athlete_gender',\n",
    "                                           'Athlete average speed' : 'athlete_average_speed',\n",
    "                                           'Athlete ID' : 'athlete_id',\n",
    "                                           'Athlete_age' : 'athlete_age'})"
   ]
  },
  {
   "cell_type": "markdown",
   "id": "3c977373",
   "metadata": {},
   "source": [
    "Reorder columns"
   ]
  },
  {
   "cell_type": "code",
   "execution_count": null,
   "id": "dad2ab9a",
   "metadata": {},
   "outputs": [],
   "source": [
    "remodeled_df = filtered_df[['race_date', \n",
    "                           'race_name', \n",
    "                           'race_length', \n",
    "                           'race_number_of_finishers', \n",
    "                           'athlete_id', \n",
    "                           'athlete_gender', \n",
    "                           'athlete_age', \n",
    "                           'athlete_performance', \n",
    "                           'athlete_average_speed']]"
   ]
  },
  {
   "cell_type": "markdown",
   "id": "59f298e5",
   "metadata": {},
   "source": [
    "Charts and graphs"
   ]
  },
  {
   "cell_type": "code",
   "execution_count": null,
   "id": "0fad3b9a",
   "metadata": {},
   "outputs": [],
   "source": [
    "sns.histplot(remodeled_df['race_length'])"
   ]
  },
  {
   "cell_type": "code",
   "execution_count": null,
   "id": "f00d79c7",
   "metadata": {},
   "outputs": [],
   "source": [
    "sns.histplot(remodeled_df, \n",
    "             x='race_length',\n",
    "             hue='athlete_gender')"
   ]
  },
  {
   "cell_type": "code",
   "execution_count": null,
   "id": "a5d1426d",
   "metadata": {},
   "outputs": [],
   "source": [
    "sns.displot(remodeled_df[remodeled_df['race_length']=='100mi']['athlete_average_speed'])"
   ]
  },
  {
   "cell_type": "code",
   "execution_count": null,
   "id": "bfe0c6f6",
   "metadata": {},
   "outputs": [],
   "source": [
    "sns.violinplot(data = remodeled_df, \n",
    "               x='race_length', \n",
    "               y='athlete_average_speed', \n",
    "               hue='athlete_gender', \n",
    "               split=True, \n",
    "               inner='quart',\n",
    "               linewidth=1 )"
   ]
  },
  {
   "cell_type": "code",
   "execution_count": null,
   "id": "c3d357d3",
   "metadata": {},
   "outputs": [],
   "source": [
    "sns.lmplot(data=remodeled_df,\n",
    "           x='athlete_age',\n",
    "           y='athlete_average_speed',\n",
    "           hue='athlete_gender')"
   ]
  }
 ],
 "metadata": {
  "kernelspec": {
   "display_name": ".venv",
   "language": "python",
   "name": "python3"
  },
  "language_info": {
   "codemirror_mode": {
    "name": "ipython",
    "version": 3
   },
   "file_extension": ".py",
   "mimetype": "text/x-python",
   "name": "python",
   "nbconvert_exporter": "python",
   "pygments_lexer": "ipython3",
   "version": "3.13.3"
  }
 },
 "nbformat": 4,
 "nbformat_minor": 5
}
